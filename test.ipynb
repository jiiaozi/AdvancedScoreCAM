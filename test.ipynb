{
 "cells": [
  {
   "cell_type": "code",
   "execution_count": 1,
   "id": "31f781a1-ea11-45c7-b037-2c46025c8f39",
   "metadata": {
    "tags": []
   },
   "outputs": [
    {
     "ename": "ModuleNotFoundError",
     "evalue": "No module named 'utils'",
     "output_type": "error",
     "traceback": [
      "\u001b[1;31m---------------------------------------------------------------------------\u001b[0m",
      "\u001b[1;31mModuleNotFoundError\u001b[0m                       Traceback (most recent call last)",
      "Cell \u001b[1;32mIn[1], line 5\u001b[0m\n\u001b[0;32m      3\u001b[0m \u001b[38;5;28;01mimport\u001b[39;00m \u001b[38;5;21;01mtorchvision\u001b[39;00m\u001b[38;5;21;01m.\u001b[39;00m\u001b[38;5;21;01mmodels\u001b[39;00m \u001b[38;5;28;01mas\u001b[39;00m \u001b[38;5;21;01mmodels\u001b[39;00m\n\u001b[0;32m      4\u001b[0m \u001b[38;5;28;01mimport\u001b[39;00m \u001b[38;5;21;01mwarnings\u001b[39;00m\n\u001b[1;32m----> 5\u001b[0m \u001b[38;5;28;01mfrom\u001b[39;00m \u001b[38;5;21;01mutils\u001b[39;00m \u001b[38;5;28;01mimport\u001b[39;00m \u001b[38;5;241m*\u001b[39m\n\u001b[0;32m      6\u001b[0m \u001b[38;5;28;01mfrom\u001b[39;00m \u001b[38;5;21;01mcam\u001b[39;00m\u001b[38;5;21;01m.\u001b[39;00m\u001b[38;5;21;01mscorecam_x\u001b[39;00m \u001b[38;5;28;01mimport\u001b[39;00m \u001b[38;5;241m*\u001b[39m\n\u001b[0;32m      7\u001b[0m \u001b[38;5;66;03m# from cam.scorecam_x_prev import *\u001b[39;00m\n",
      "\u001b[1;31mModuleNotFoundError\u001b[0m: No module named 'utils'"
     ]
    }
   ],
   "source": [
    "import torch\n",
    "import torch.nn.functional as F\n",
    "import torchvision.models as models\n",
    "import warnings\n",
    "from utils import *\n",
    "from cam.scorecam_x import *\n",
    "# from cam.scorecam_x_prev import *\n",
    "from cam.scorecam import *\n",
    "from cam.layercam import *\n",
    "from cam.other_cams import *\n",
    "from cam.scorecam_my import *\n",
    "# from cam.scorecam_d import *\n",
    "from cam.scorecam_attention import *\n",
    "from cam.attention_utils import *\n",
    "import os\n",
    "from tqdm import tqdm\n",
    "import warnings\n",
    "warnings.filterwarnings('ignore')"
   ]
  },
  {
   "cell_type": "code",
   "execution_count": null,
   "id": "18e45253-efaf-451e-8bc5-e5c30b13d640",
   "metadata": {
    "tags": []
   },
   "outputs": [],
   "source": [
    "dir_name = ['scorecam', 'scorecam_pp', 'layercam', 'gradcam', 'gradcampp', 'xgradcam', 'Augmented GradCAM']\n",
    "#xxxxxxxxxxxxxxxxxxxxxxxxxxxxxxxxxxxxxxxxxxxxxxxxxxxxxxxxxxxxxxxxxxxxxxxxxxxxxxxxxxxxxxxxxxxxxxxxxxxxxxxxxxxxxx\n",
    "vgg = models.vgg19(pretrained=True).eval()\n",
    "vgg_model_dict = dict(type='vgg16', arch=vgg, layer_name='features_35',input_size=(224, 224))\n",
    "\n",
    "vgg_gradcam = GradCAM(vgg_model_dict)\n",
    "vgg_gradcampp = GradCAMpp(vgg_model_dict)\n",
    "vgg_layercam = LayerCAM(vgg_model_dict)\n",
    "vgg_scorecam = ScoreCAM(vgg_model_dict)\n",
    "vgg_scorecam_x = ScoreCAM_x(vgg_model_dict)\n",
    "vgg_scorecam_my = ScoreCAM_my(vgg_model_dict)\n",
    "print('finish!')\n",
    "\n",
    "resnet = models.resnet18(pretrained=True).eval()\n",
    "resnet_model_dict = dict(type='resnet18', arch=resnet, layer_name='layer4',input_size=(224, 224))\n",
    "res_gradcam = GradCAM(resnet_model_dict)\n",
    "res_gradcampp = GradCAMpp(resnet_model_dict)\n",
    "res_layercam = LayerCAM(resnet_model_dict)\n",
    "res_scorecam = ScoreCAM(resnet_model_dict)\n",
    "res_scorecam_x = ScoreCAM_x(resnet_model_dict)\n",
    "res_scorecam_my = ScoreCAM_my(resnet_model_dict)\n",
    "print('finish!')"
   ]
  },
  {
   "cell_type": "code",
   "execution_count": null,
   "id": "789adaf1-5cc2-402e-aa76-d9473d5cc00c",
   "metadata": {
    "tags": []
   },
   "outputs": [],
   "source": [
    "img_path = '10128.jpg'\n",
    "input_image = load_image(img_path)\n",
    "input_ = apply_transforms(input_image)\n",
    "print(input_.shape)\n",
    "print('finish!')"
   ]
  },
  {
   "cell_type": "code",
   "execution_count": null,
   "id": "03e3b587-1077-4018-b181-2a361c3a63b3",
   "metadata": {
    "tags": []
   },
   "outputs": [],
   "source": [
    "if torch.cuda.is_available():\n",
    "      input_ = input_.cuda()\n",
    "\n",
    "vgg_saliency_map = vgg_gradcam(input_)\n",
    "vgg_saliency_map1 = vgg_gradcampp(input_)\n",
    "vgg_saliency_map2 = vgg_layercam(input_)\n",
    "vgg_saliency_map3 = vgg_scorecam(input_)\n",
    "vgg_saliency_map4 = vgg_scorecam_x(input_)\n",
    "vgg_saliency_map5 = vgg_scorecam_my(input_)\n",
    "\n",
    "print('finish!')\n",
    "\n",
    "res_saliency_map = res_gradcam(input_)\n",
    "res_saliency_map1 = res_gradcampp(input_)\n",
    "res_saliency_map2 = res_layercam(input_)\n",
    "res_saliency_map3 = res_scorecam(input_)\n",
    "res_saliency_map4 = res_scorecam_x(input_)\n",
    "res_saliency_map5 = res_scorecam_my(input_)\n",
    "\n",
    "\n",
    "print(res_saliency_map.shape)\n",
    "print('finish!')\n"
   ]
  },
  {
   "cell_type": "code",
   "execution_count": null,
   "id": "731e05a4-9694-4551-bed6-5649b88c7cfc",
   "metadata": {
    "tags": []
   },
   "outputs": [],
   "source": [
    "from utils1 import *\n",
    "from torchvision.io.image import read_image\n",
    "from PIL import Image\n",
    "import matplotlib.pyplot as plt\n",
    "from torchvision.transforms.functional import normalize, resize, to_pil_image\n",
    "from metrics import adcc as ad\n",
    "from image_utils import image_utils\n",
    "img = read_image(img_path)\n",
    "\n",
    "\n",
    "result = overlay_mask(to_pil_image(img), to_pil_image(vgg_saliency_map[0].squeeze(0), mode='F'), alpha=0.5)\n",
    "result1 = overlay_mask(to_pil_image(img), to_pil_image(vgg_saliency_map1[0].squeeze(0), mode='F'), alpha=0.5)\n",
    "result2 = overlay_mask(to_pil_image(img), to_pil_image(vgg_saliency_map2[0].squeeze(0), mode='F'), alpha=0.5)\n",
    "result3 = overlay_mask(to_pil_image(img), to_pil_image(vgg_saliency_map3[0].squeeze(0), mode='F'), alpha=0.5)\n",
    "result4 = overlay_mask(to_pil_image(img), to_pil_image(vgg_saliency_map4[0].squeeze(0), mode='F'), alpha=0.5)\n",
    "result5 = overlay_mask(to_pil_image(img), to_pil_image(vgg_saliency_map5[0].squeeze(0), mode='F'), alpha=0.5)\n",
    "\n",
    "\n",
    "plt.imshow(result); plt.axis('off'); plt.tight_layout(); plt.show()\n",
    "plt.imshow(result1); plt.axis('off'); plt.tight_layout(); plt.show()\n",
    "plt.imshow(result2); plt.axis('off'); plt.tight_layout(); plt.show()\n",
    "plt.imshow(result3); plt.axis('off'); plt.tight_layout(); plt.show()\n",
    "plt.imshow(result4); plt.axis('off'); plt.tight_layout(); plt.show()\n",
    "plt.imshow(result5); plt.axis('off'); plt.tight_layout(); plt.show()\n",
    "\n",
    "\n",
    "# \n",
    "print('vgg_finish!')\n",
    "\n",
    "result = overlay_mask(to_pil_image(img), to_pil_image(res_saliency_map[0].squeeze(0), mode='F'), alpha=0.5)\n",
    "result1 = overlay_mask(to_pil_image(img), to_pil_image(res_saliency_map1[0].squeeze(0), mode='F'), alpha=0.5)\n",
    "result2 = overlay_mask(to_pil_image(img), to_pil_image(res_saliency_map2[0].squeeze(0), mode='F'), alpha=0.5)\n",
    "result3 = overlay_mask(to_pil_image(img), to_pil_image(res_saliency_map3[0].squeeze(0), mode='F'), alpha=0.5)\n",
    "result4 = overlay_mask(to_pil_image(img), to_pil_image(res_saliency_map4[0].squeeze(0), mode='F'), alpha=0.5)\n",
    "result5 = overlay_mask(to_pil_image(img), to_pil_image(res_saliency_map5[0].squeeze(0), mode='F'), alpha=0.5)\n",
    "\n",
    "\n",
    "plt.imshow(result); plt.axis('off'); plt.tight_layout(); plt.show()\n",
    "plt.imshow(result1); plt.axis('off'); plt.tight_layout(); plt.show()\n",
    "plt.imshow(result2); plt.axis('off'); plt.tight_layout(); plt.show()\n",
    "plt.imshow(result3); plt.axis('off'); plt.tight_layout(); plt.show()\n",
    "plt.imshow(result4); plt.axis('off'); plt.tight_layout(); plt.show()\n",
    "plt.imshow(result5); plt.axis('off'); plt.tight_layout(); plt.show()\n",
    "\n",
    "print('res_finish!')\n"
   ]
  }
 ],
 "metadata": {
  "kernelspec": {
   "display_name": "Python 3 (ipykernel)",
   "language": "python",
   "name": "python3"
  },
  "language_info": {
   "codemirror_mode": {
    "name": "ipython",
    "version": 3
   },
   "file_extension": ".py",
   "mimetype": "text/x-python",
   "name": "python",
   "nbconvert_exporter": "python",
   "pygments_lexer": "ipython3",
   "version": "3.11.4"
  }
 },
 "nbformat": 4,
 "nbformat_minor": 5
}
